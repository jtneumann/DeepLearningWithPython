{
  "nbformat": 4,
  "nbformat_minor": 0,
  "metadata": {
    "colab": {
      "name": "Untitled14.ipynb",
      "version": "0.3.2",
      "provenance": [],
      "include_colab_link": true
    },
    "kernelspec": {
      "name": "python3",
      "display_name": "Python 3"
    },
    "accelerator": "GPU"
  },
  "cells": [
    {
      "cell_type": "markdown",
      "metadata": {
        "id": "view-in-github",
        "colab_type": "text"
      },
      "source": [
        "<a href=\"https://colab.research.google.com/github/jtneumann/DeepLearningWithPython/blob/master/6.2b.ipynb\" target=\"_parent\"><img src=\"https://colab.research.google.com/assets/colab-badge.svg\" alt=\"Open In Colab\"/></a>"
      ]
    },
    {
      "metadata": {
        "id": "ByE_d082Du1w",
        "colab_type": "code",
        "colab": {
          "base_uri": "https://localhost:8080/",
          "height": 34
        },
        "outputId": "3d6d87bf-7a1a-46b5-b919-486b47ca3488"
      },
      "cell_type": "code",
      "source": [
        "from keras.layers import LSTM"
      ],
      "execution_count": 1,
      "outputs": [
        {
          "output_type": "stream",
          "text": [
            "Using TensorFlow backend.\n"
          ],
          "name": "stderr"
        }
      ]
    },
    {
      "metadata": {
        "id": "mYQhbJcbEhHS",
        "colab_type": "code",
        "colab": {}
      },
      "cell_type": "code",
      "source": [
        ""
      ],
      "execution_count": 0,
      "outputs": []
    },
    {
      "metadata": {
        "id": "iWNw6FvtEd67",
        "colab_type": "code",
        "colab": {}
      },
      "cell_type": "code",
      "source": [
        "import keras"
      ],
      "execution_count": 0,
      "outputs": []
    },
    {
      "metadata": {
        "id": "x-QMprQvEigu",
        "colab_type": "code",
        "colab": {
          "base_uri": "https://localhost:8080/",
          "height": 34
        },
        "outputId": "579d5e9d-1b44-44d7-c363-2b17238f5bb5"
      },
      "cell_type": "code",
      "source": [
        "keras.__version__"
      ],
      "execution_count": 4,
      "outputs": [
        {
          "output_type": "execute_result",
          "data": {
            "text/plain": [
              "'2.2.4'"
            ]
          },
          "metadata": {
            "tags": []
          },
          "execution_count": 4
        }
      ]
    },
    {
      "metadata": {
        "id": "K8-I8Ad2EooF",
        "colab_type": "code",
        "colab": {}
      },
      "cell_type": "code",
      "source": [
        "from keras.models import Sequential\n",
        "from keras.layers import Embedding, LSTM, Dense"
      ],
      "execution_count": 0,
      "outputs": []
    },
    {
      "metadata": {
        "id": "-pL5GI1cE7Vc",
        "colab_type": "code",
        "colab": {}
      },
      "cell_type": "code",
      "source": [
        "max_features = 10000"
      ],
      "execution_count": 0,
      "outputs": []
    },
    {
      "metadata": {
        "id": "b0JQp8-0Dzwl",
        "colab_type": "code",
        "colab": {}
      },
      "cell_type": "code",
      "source": [
        "model = Sequential()\n",
        "model.add(Embedding(max_features, 32))\n",
        "model.add(LSTM(32))\n",
        "model.add(Dense(1, activation='sigmoid'))\n"
      ],
      "execution_count": 0,
      "outputs": []
    },
    {
      "metadata": {
        "id": "68nuxhAHFkSJ",
        "colab_type": "code",
        "colab": {
          "base_uri": "https://localhost:8080/",
          "height": 153
        },
        "outputId": "424364c6-5cde-460f-aa68-c99237f84a0e"
      },
      "cell_type": "code",
      "source": [
        "from keras.datasets import imdb\n",
        "from keras.preprocessing import sequence\n",
        "\n",
        "max_features = 10000\n",
        "maxlen = 500\n",
        "batch_size = 32\n",
        "\n",
        "print('Loading Data....')\n",
        "(input_train, y_train), (input_test, y_test) = imdb.load_data(num_words=max_features)\n",
        "\n",
        "print(len(input_train), 'train sequences')\n",
        "print(len(input_test), 'test sequences')\n",
        "\n",
        "print('Pad sequences (samples x time)')\n",
        "input_train = sequence.pad_sequences(input_train, maxlen=maxlen)\n",
        "input_test = sequence.pad_sequences(input_test, maxlen=maxlen)\n",
        "print('input_train shape: ', input_train.shape)\n",
        "print('input_test shape: ', input_test.shape)"
      ],
      "execution_count": 20,
      "outputs": [
        {
          "output_type": "stream",
          "text": [
            "Loading Data....\n",
            "Downloading data from https://s3.amazonaws.com/text-datasets/imdb.npz\n",
            "17465344/17464789 [==============================] - 2s 0us/step\n",
            "25000 train sequences\n",
            "25000 test sequences\n",
            "Pad sequences (samples x time)\n",
            "input_train shape:  (25000, 500)\n",
            "input_test shape:  (25000, 500)\n"
          ],
          "name": "stdout"
        }
      ]
    },
    {
      "metadata": {
        "id": "afOvIVrHHjs_",
        "colab_type": "code",
        "colab": {}
      },
      "cell_type": "code",
      "source": [
        "model.compile(optimizer='rmsprop',\n",
        "             loss='binary_crossentropy',\n",
        "             metrics=['acc'])"
      ],
      "execution_count": 0,
      "outputs": []
    },
    {
      "metadata": {
        "id": "jsaoQdFFFY__",
        "colab_type": "code",
        "colab": {
          "base_uri": "https://localhost:8080/",
          "height": 714
        },
        "outputId": "32b08a24-65d4-482b-9d4b-494086cf3974"
      },
      "cell_type": "code",
      "source": [
        "history = model.fit(input_train, y_train,\n",
        "                   epochs=20,\n",
        "                   batch_size=128,\n",
        "                   validation_split=0.2)"
      ],
      "execution_count": 28,
      "outputs": [
        {
          "output_type": "stream",
          "text": [
            "Train on 20000 samples, validate on 5000 samples\n",
            "Epoch 1/20\n",
            "20000/20000 [==============================] - 104s 5ms/step - loss: 0.1055 - acc: 0.9636 - val_loss: 0.3624 - val_acc: 0.8834\n",
            "Epoch 2/20\n",
            "20000/20000 [==============================] - 104s 5ms/step - loss: 0.0981 - acc: 0.9666 - val_loss: 0.3524 - val_acc: 0.8630\n",
            "Epoch 3/20\n",
            "20000/20000 [==============================] - 103s 5ms/step - loss: 0.0907 - acc: 0.9694 - val_loss: 0.3551 - val_acc: 0.8722\n",
            "Epoch 4/20\n",
            "20000/20000 [==============================] - 100s 5ms/step - loss: 0.0846 - acc: 0.9702 - val_loss: 0.3776 - val_acc: 0.8762\n",
            "Epoch 5/20\n",
            "20000/20000 [==============================] - 100s 5ms/step - loss: 0.0813 - acc: 0.9739 - val_loss: 0.9791 - val_acc: 0.7528\n",
            "Epoch 6/20\n",
            "20000/20000 [==============================] - 102s 5ms/step - loss: 0.0754 - acc: 0.9748 - val_loss: 0.4548 - val_acc: 0.8798\n",
            "Epoch 7/20\n",
            "20000/20000 [==============================] - 100s 5ms/step - loss: 0.0699 - acc: 0.9772 - val_loss: 0.4101 - val_acc: 0.8574\n",
            "Epoch 8/20\n",
            "20000/20000 [==============================] - 99s 5ms/step - loss: 0.0608 - acc: 0.9795 - val_loss: 0.4669 - val_acc: 0.8746\n",
            "Epoch 9/20\n",
            "20000/20000 [==============================] - 101s 5ms/step - loss: 0.0596 - acc: 0.9806 - val_loss: 0.5993 - val_acc: 0.8666\n",
            "Epoch 10/20\n",
            "20000/20000 [==============================] - 99s 5ms/step - loss: 0.0614 - acc: 0.9797 - val_loss: 0.5929 - val_acc: 0.8740\n",
            "Epoch 11/20\n",
            "20000/20000 [==============================] - 101s 5ms/step - loss: 0.0590 - acc: 0.9819 - val_loss: 0.5270 - val_acc: 0.8750\n",
            "Epoch 12/20\n",
            "20000/20000 [==============================] - 100s 5ms/step - loss: 0.0576 - acc: 0.9831 - val_loss: 0.4834 - val_acc: 0.8688\n",
            "Epoch 13/20\n",
            "20000/20000 [==============================] - 98s 5ms/step - loss: 0.0512 - acc: 0.9859 - val_loss: 0.5497 - val_acc: 0.8684\n",
            "Epoch 14/20\n",
            "20000/20000 [==============================] - 98s 5ms/step - loss: 0.0467 - acc: 0.9860 - val_loss: 0.5881 - val_acc: 0.8692\n",
            "Epoch 15/20\n",
            "20000/20000 [==============================] - 102s 5ms/step - loss: 0.0459 - acc: 0.9863 - val_loss: 0.5327 - val_acc: 0.8636\n",
            "Epoch 16/20\n",
            "20000/20000 [==============================] - 98s 5ms/step - loss: 0.0461 - acc: 0.9864 - val_loss: 0.5823 - val_acc: 0.8656\n",
            "Epoch 17/20\n",
            "20000/20000 [==============================] - 98s 5ms/step - loss: 0.0399 - acc: 0.9878 - val_loss: 0.5858 - val_acc: 0.8724\n",
            "Epoch 18/20\n",
            "20000/20000 [==============================] - 100s 5ms/step - loss: 0.0426 - acc: 0.9873 - val_loss: 0.5071 - val_acc: 0.8600\n",
            "Epoch 19/20\n",
            "20000/20000 [==============================] - 99s 5ms/step - loss: 0.0367 - acc: 0.9896 - val_loss: 0.5841 - val_acc: 0.8692\n",
            "Epoch 20/20\n",
            "20000/20000 [==============================] - 98s 5ms/step - loss: 0.0348 - acc: 0.9904 - val_loss: 0.6918 - val_acc: 0.8644\n"
          ],
          "name": "stdout"
        }
      ]
    },
    {
      "metadata": {
        "id": "Kk-7QARGHthm",
        "colab_type": "code",
        "colab": {
          "base_uri": "https://localhost:8080/",
          "height": 545
        },
        "outputId": "9b53b3e8-be10-4dae-e7f6-c2c27ecdc679"
      },
      "cell_type": "code",
      "source": [
        "\n",
        "import matplotlib.pyplot as plt\n",
        "\n",
        "acc = history.history['acc']\n",
        "val_acc = history.history['val_acc']\n",
        "loss = history.history['loss']\n",
        "val_loss = history.history['val_loss']\n",
        "\n",
        "epochs = range(len(acc))\n",
        "\n",
        "plt.plot(epochs, acc, 'bo', label='Training acc')\n",
        "plt.plot(epochs, val_acc, 'b', label='Validation acc')\n",
        "plt.title('Training and validation accuracy')\n",
        "plt.legend()\n",
        "\n",
        "plt.figure()\n",
        "\n",
        "plt.plot(epochs, loss, 'bo', label='Training loss')\n",
        "plt.plot(epochs, val_loss, 'b', label='Validation loss')\n",
        "plt.title('Training and validation loss')\n",
        "plt.legend()\n",
        "\n",
        "plt.show()"
      ],
      "execution_count": 29,
      "outputs": [
        {
          "output_type": "display_data",
          "data": {
            "image/png": "[encoded data removed]",
            "text/plain": [
              "<Figure size 432x288 with 1 Axes>"
            ]
          },
          "metadata": {
            "tags": []
          }
        },
        {
          "output_type": "display_data",
          "data": {
            "image/png": "[encoded data removed]",
            "text/plain": [
              "<Figure size 432x288 with 1 Axes>"
            ]
          },
          "metadata": {
            "tags": []
          }
        }
      ]
    },
    {
      "metadata": {
        "id": "cAT-bcliVFYY",
        "colab_type": "code",
        "colab": {}
      },
      "cell_type": "code",
      "source": [
        ""
      ],
      "execution_count": 0,
      "outputs": []
    }
  ]
}