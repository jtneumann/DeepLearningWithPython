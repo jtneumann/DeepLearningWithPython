{
  "nbformat": 4,
  "nbformat_minor": 0,
  "metadata": {
    "colab": {
      "name": "Copy of Copy of Untitled0.ipynb",
      "version": "0.3.2",
      "provenance": [],
      "include_colab_link": true
    },
    "kernelspec": {
      "name": "python3",
      "display_name": "Python 3"
    },
    "accelerator": "GPU"
  },
  "cells": [
    {
      "cell_type": "markdown",
      "metadata": {
        "id": "view-in-github",
        "colab_type": "text"
      },
      "source": [
        "<a href=\"https://colab.research.google.com/github/jtneumann/DeepLearningWithPython/blob/master/Chapter-03/Exercise_3.4-completed.ipynb\" target=\"_parent\"><img src=\"https://colab.research.google.com/assets/colab-badge.svg\" alt=\"Open In Colab\"/></a>"
      ]
    },
    {
      "metadata": {
        "id": "bTHbHnK6FN7I",
        "colab_type": "code",
        "colab": {}
      },
      "cell_type": "code",
      "source": [
        "from keras.datasets import imdb\n",
        "\n",
        "(train_data, train_labels), (test_data, test_labels) = imdb.load_data(num_words=10000)"
      ],
      "execution_count": 0,
      "outputs": []
    },
    {
      "metadata": {
        "id": "wy4WN4CoFkcO",
        "colab_type": "code",
        "colab": {}
      },
      "cell_type": "code",
      "source": [
        "train_data[0]"
      ],
      "execution_count": 0,
      "outputs": []
    },
    {
      "metadata": {
        "id": "MOD8a9W_FsjG",
        "colab_type": "code",
        "outputId": "5015d014-00b8-4cb8-ff4e-ecd02f1797bb",
        "colab": {
          "base_uri": "https://localhost:8080/",
          "height": 35
        }
      },
      "cell_type": "code",
      "source": [
        "max([max(sequence) for sequence in train_data])"
      ],
      "execution_count": 0,
      "outputs": [
        {
          "output_type": "execute_result",
          "data": {
            "text/plain": [
              "9999"
            ]
          },
          "metadata": {
            "tags": []
          },
          "execution_count": 3
        }
      ]
    },
    {
      "metadata": {
        "id": "akjBY4_aF3eK",
        "colab_type": "code",
        "outputId": "8a37bc56-0cfd-40b0-f81b-8c84e8c2ae97",
        "colab": {
          "base_uri": "https://localhost:8080/",
          "height": 55
        }
      },
      "cell_type": "code",
      "source": [
        "word_index = imdb.get_word_index()\n",
        "reverse_word_index = dict(\n",
        "    [(value, key) for (key, value) in word_index.items()])\n",
        "decoded_review = ' '.join(\n",
        "    [reverse_word_index.get(i - 3, '?') for i in train_data[0]])\n",
        "print(decoded_review)"
      ],
      "execution_count": 0,
      "outputs": [
        {
          "output_type": "stream",
          "text": [
            "? this film was just brilliant casting location scenery story direction everyone's really suited the part they played and you could just imagine being there robert ? is an amazing actor and now the same being director ? father came from the same scottish island as myself so i loved the fact there was a real connection with this film the witty remarks throughout the film were great it was just brilliant so much that i bought the film as soon as it was released for ? and would recommend it to everyone to watch and the fly fishing was amazing really cried at the end it was so sad and you know what they say if you cry at a film it must have been good and this definitely was also ? to the two little boy's that played the ? of norman and paul they were just brilliant children are often left out of the ? list i think because the stars that play them all grown up are such a big profile for the whole film but these children are amazing and should be praised for what they have done don't you think the whole story was so lovely because it was true and was someone's life after all that was shared with us all\n"
          ],
          "name": "stdout"
        }
      ]
    },
    {
      "metadata": {
        "id": "MdhY6BcLGr7u",
        "colab_type": "code",
        "colab": {}
      },
      "cell_type": "code",
      "source": [
        "import numpy as np\n",
        "\n",
        "def vectorize_sequences(sequences, dimension=10000):\n",
        "    results = np.zeros((len(sequences), dimension))\n",
        "    for i, sequence in enumerate(sequences):\n",
        "        results[i, sequence] = 1.\n",
        "    return results\n",
        "  \n",
        "x_train = vectorize_sequences(train_data)\n",
        "x_test = vectorize_sequences(test_data)"
      ],
      "execution_count": 0,
      "outputs": []
    },
    {
      "metadata": {
        "id": "OgTd0wHUI8s5",
        "colab_type": "code",
        "outputId": "74458684-a9b8-4993-db5d-a07eeddfb97c",
        "colab": {
          "base_uri": "https://localhost:8080/",
          "height": 35
        }
      },
      "cell_type": "code",
      "source": [
        "x_train[0]"
      ],
      "execution_count": 0,
      "outputs": [
        {
          "output_type": "execute_result",
          "data": {
            "text/plain": [
              "array([0., 1., 1., ..., 0., 0., 0.])"
            ]
          },
          "metadata": {
            "tags": []
          },
          "execution_count": 9
        }
      ]
    },
    {
      "metadata": {
        "id": "mQj9GCVQJEjU",
        "colab_type": "code",
        "colab": {}
      },
      "cell_type": "code",
      "source": [
        "y_train = np.asarray(train_labels).astype('float32')\n",
        "y_test = np.asarray(test_labels).astype('float32')"
      ],
      "execution_count": 0,
      "outputs": []
    },
    {
      "metadata": {
        "id": "tMVNqedRJU3A",
        "colab_type": "code",
        "outputId": "744c660a-a2a1-48fe-add6-41aee3986916",
        "colab": {
          "base_uri": "https://localhost:8080/",
          "height": 35
        }
      },
      "cell_type": "code",
      "source": [
        "y_train[0]"
      ],
      "execution_count": 0,
      "outputs": [
        {
          "output_type": "execute_result",
          "data": {
            "text/plain": [
              "1.0"
            ]
          },
          "metadata": {
            "tags": []
          },
          "execution_count": 12
        }
      ]
    },
    {
      "metadata": {
        "id": "tuAyTncXrrIn",
        "colab_type": "text"
      },
      "cell_type": "markdown",
      "source": [
        "3.4.3 Building the network:"
      ]
    },
    {
      "metadata": {
        "id": "_rGQ8o7tJZuQ",
        "colab_type": "code",
        "outputId": "f7ce9a33-95fe-42e0-9db9-10cd3a84c721",
        "colab": {
          "base_uri": "https://localhost:8080/",
          "height": 107
        }
      },
      "cell_type": "code",
      "source": [
        "from keras import models\n",
        "from keras import layers\n",
        "\n",
        "model = models.Sequential()\n",
        "model.add(layers.Dense(16, activation='relu', input_shape=(10000,)))\n",
        "model.add(layers.Dense(16, activation='relu'))\n",
        "model.add(layers.Dense(1, activation='sigmoid'))"
      ],
      "execution_count": 0,
      "outputs": [
        {
          "output_type": "stream",
          "text": [
            "Using TensorFlow backend.\n"
          ],
          "name": "stderr"
        },
        {
          "output_type": "stream",
          "text": [
            "WARNING:tensorflow:From /usr/local/lib/python3.6/dist-packages/tensorflow/python/framework/op_def_library.py:263: colocate_with (from tensorflow.python.framework.ops) is deprecated and will be removed in a future version.\n",
            "Instructions for updating:\n",
            "Colocations handled automatically by placer.\n"
          ],
          "name": "stdout"
        }
      ]
    },
    {
      "metadata": {
        "id": "RyZTnh_8uIo1",
        "colab_type": "code",
        "colab": {}
      },
      "cell_type": "code",
      "source": [
        "from keras import optimizers\n",
        "from keras import losses\n",
        "from keras import metrics\n",
        "\n",
        "model.compile(optimizer=optimizers.RMSprop(lr=0.001),\n",
        "             loss=losses.binary_crossentropy,\n",
        "             metrics=[metrics.binary_accuracy])"
      ],
      "execution_count": 0,
      "outputs": []
    },
    {
      "metadata": {
        "id": "CtOS4a21uvCX",
        "colab_type": "code",
        "colab": {}
      },
      "cell_type": "code",
      "source": [
        "x_val = x_train[:10000]\n",
        "partial_x_train = x_train[10000:]\n",
        "\n",
        "y_val = y_train[:10000]\n",
        "partial_y_train = y_train[10000:]"
      ],
      "execution_count": 0,
      "outputs": []
    },
    {
      "metadata": {
        "id": "ddr2QEVvv_9J",
        "colab_type": "code",
        "outputId": "43fee1d1-afb8-4ed9-d162-78d47f0b07d6",
        "colab": {
          "base_uri": "https://localhost:8080/",
          "height": 800
        }
      },
      "cell_type": "code",
      "source": [
        "model.compile(optimizer='rmsprop',\n",
        "             loss='binary_crossentropy',\n",
        "             metrics=['acc'])\n",
        "\n",
        "history = model.fit(partial_x_train,\n",
        "                   partial_y_train,\n",
        "                   epochs=20,\n",
        "                   batch_size=512,\n",
        "                   validation_data=(x_val, y_val))"
      ],
      "execution_count": 0,
      "outputs": [
        {
          "output_type": "stream",
          "text": [
            "WARNING:tensorflow:From /usr/local/lib/python3.6/dist-packages/tensorflow/python/ops/math_ops.py:3066: to_int32 (from tensorflow.python.ops.math_ops) is deprecated and will be removed in a future version.\n",
            "Instructions for updating:\n",
            "Use tf.cast instead.\n",
            "Train on 15000 samples, validate on 10000 samples\n",
            "Epoch 1/20\n",
            "15000/15000 [==============================] - 3s 186us/step - loss: 0.5986 - acc: 0.6529 - val_loss: 0.5242 - val_acc: 0.7365\n",
            "Epoch 2/20\n",
            "15000/15000 [==============================] - 2s 127us/step - loss: 0.4115 - acc: 0.8813 - val_loss: 0.3637 - val_acc: 0.8850\n",
            "Epoch 3/20\n",
            "15000/15000 [==============================] - 2s 127us/step - loss: 0.2715 - acc: 0.9218 - val_loss: 0.3010 - val_acc: 0.8847\n",
            "Epoch 4/20\n",
            "15000/15000 [==============================] - 2s 126us/step - loss: 0.1990 - acc: 0.9383 - val_loss: 0.2790 - val_acc: 0.8889\n",
            "Epoch 5/20\n",
            "15000/15000 [==============================] - 2s 125us/step - loss: 0.1558 - acc: 0.9515 - val_loss: 0.2774 - val_acc: 0.8882\n",
            "Epoch 6/20\n",
            "15000/15000 [==============================] - 2s 127us/step - loss: 0.1275 - acc: 0.9620 - val_loss: 0.2869 - val_acc: 0.8859\n",
            "Epoch 7/20\n",
            "15000/15000 [==============================] - 2s 129us/step - loss: 0.1015 - acc: 0.9726 - val_loss: 0.3070 - val_acc: 0.8835\n",
            "Epoch 8/20\n",
            "15000/15000 [==============================] - 2s 127us/step - loss: 0.0839 - acc: 0.9773 - val_loss: 0.3205 - val_acc: 0.8839\n",
            "Epoch 9/20\n",
            "15000/15000 [==============================] - 2s 133us/step - loss: 0.0676 - acc: 0.9826 - val_loss: 0.3688 - val_acc: 0.8736\n",
            "Epoch 10/20\n",
            "15000/15000 [==============================] - 2s 134us/step - loss: 0.0540 - acc: 0.9873 - val_loss: 0.3802 - val_acc: 0.8764\n",
            "Epoch 11/20\n",
            "15000/15000 [==============================] - 2s 130us/step - loss: 0.0413 - acc: 0.9911 - val_loss: 0.3911 - val_acc: 0.8783\n",
            "Epoch 12/20\n",
            "15000/15000 [==============================] - 2s 126us/step - loss: 0.0337 - acc: 0.9925 - val_loss: 0.4255 - val_acc: 0.8759\n",
            "Epoch 13/20\n",
            "15000/15000 [==============================] - 2s 126us/step - loss: 0.0269 - acc: 0.9941 - val_loss: 0.4490 - val_acc: 0.8745\n",
            "Epoch 14/20\n",
            "15000/15000 [==============================] - 2s 125us/step - loss: 0.0208 - acc: 0.9958 - val_loss: 0.4815 - val_acc: 0.8737\n",
            "Epoch 15/20\n",
            "15000/15000 [==============================] - 2s 125us/step - loss: 0.0153 - acc: 0.9979 - val_loss: 0.4991 - val_acc: 0.8736\n",
            "Epoch 16/20\n",
            "15000/15000 [==============================] - 2s 126us/step - loss: 0.0102 - acc: 0.9989 - val_loss: 0.5628 - val_acc: 0.8667\n",
            "Epoch 17/20\n",
            "15000/15000 [==============================] - 2s 125us/step - loss: 0.0067 - acc: 0.9995 - val_loss: 0.5670 - val_acc: 0.8702\n",
            "Epoch 18/20\n",
            "15000/15000 [==============================] - 2s 127us/step - loss: 0.0058 - acc: 0.9996 - val_loss: 0.6436 - val_acc: 0.8654\n",
            "Epoch 19/20\n",
            "15000/15000 [==============================] - 2s 127us/step - loss: 0.0064 - acc: 0.9987 - val_loss: 0.6387 - val_acc: 0.8699\n",
            "Epoch 20/20\n",
            "15000/15000 [==============================] - 2s 128us/step - loss: 0.0024 - acc: 0.9999 - val_loss: 0.6827 - val_acc: 0.8676\n"
          ],
          "name": "stdout"
        }
      ]
    },
    {
      "metadata": {
        "id": "z19967ZJxibC",
        "colab_type": "code",
        "outputId": "a8ae7c8a-49e8-41a0-cf89-7e808b49cc27",
        "colab": {
          "base_uri": "https://localhost:8080/",
          "height": 35
        }
      },
      "cell_type": "code",
      "source": [
        "history_dict = history.history\n",
        "history_dict.keys()"
      ],
      "execution_count": 0,
      "outputs": [
        {
          "output_type": "execute_result",
          "data": {
            "text/plain": [
              "dict_keys(['val_loss', 'val_acc', 'loss', 'acc'])"
            ]
          },
          "metadata": {
            "tags": []
          },
          "execution_count": 13
        }
      ]
    },
    {
      "metadata": {
        "id": "TpLHwOJwygSU",
        "colab_type": "code",
        "outputId": "ae398763-2ce5-44af-d6dc-66e0e1d36101",
        "colab": {
          "base_uri": "https://localhost:8080/",
          "height": 377
        }
      },
      "cell_type": "code",
      "source": [
        "import matplotlib.pyplot as plt\n",
        "\n",
        "history_dict = history.history\n",
        "loss_values = history_dict['loss']\n",
        "val_loss_values = history_dict['val_loss']\n",
        "acc = history_dict['acc']  #not included in text, but needed to run\n",
        "\n",
        "epochs = range(1, len(acc) + 1)\n",
        "\n",
        "plt.plot(epochs, loss_values, 'bo', label=\"Training Loss\")\n",
        "plt.plot(epochs, val_loss_values, 'b', label=\"Validation Loss\")\n",
        "plt.title(\"Training and Validation Loss\")\n",
        "plt.xlabel('Epochs')\n",
        "plt.ylabel('Loss')\n",
        "plt.legend()\n",
        "\n",
        "plt.show()"
      ],
      "execution_count": 0,
      "outputs": [
        {
          "output_type": "display_data",
          "data": {
            "image/png": "[encoded data removed]",
            "text/plain": [
              "<Figure size 576x396 with 1 Axes>"
            ]
          },
          "metadata": {
            "tags": []
          }
        }
      ]
    },
    {
      "metadata": {
        "id": "3TBj85-Yzbqk",
        "colab_type": "code",
        "outputId": "f2d74e17-125b-4c1d-c3c8-62999b56a61b",
        "colab": {
          "base_uri": "https://localhost:8080/",
          "height": 377
        }
      },
      "cell_type": "code",
      "source": [
        "plt.clf()  #clear above figure\n",
        "val_acc = history_dict['val_acc']\n",
        "\n",
        "plt.plot(epochs, acc, 'bo', label='Training acc')  #bo = blue dots\n",
        "plt.plot(epochs, val_acc, 'b', label='Validation acc')  # b = solid blue line\n",
        "plt.title('Training and validation accuracy')\n",
        "plt.xlabel('Epochs')\n",
        "plt.ylabel('Loss')\n",
        "plt.legend()\n",
        "\n",
        "plt.show()"
      ],
      "execution_count": 0,
      "outputs": [
        {
          "output_type": "display_data",
          "data": {
            "image/png": "[encoded data removed]",
            "text/plain": [
              "<Figure size 576x396 with 1 Axes>"
            ]
          },
          "metadata": {
            "tags": []
          }
        }
      ]
    },
    {
      "metadata": {
        "id": "-fMbeWlN3a8Z",
        "colab_type": "text"
      },
      "cell_type": "markdown",
      "source": [
        "Graphs showin that we're seeing an overfitting shortly after the 2nd epoch.\n",
        "\n",
        "In short, the model is learning representations that are specific to the training data and not generalizing to outside data.\n",
        "\n",
        "* Trying a 4 epoch train for reference:"
      ]
    },
    {
      "metadata": {
        "id": "SbHolGn53AHb",
        "colab_type": "code",
        "colab": {
          "base_uri": "https://localhost:8080/",
          "height": 245
        },
        "outputId": "4aedb304-94e9-4e9d-f8d4-b35716525fbc"
      },
      "cell_type": "code",
      "source": [
        "from keras import models\n",
        "from keras import layers\n",
        "from keras import optimizers\n",
        "from keras import losses\n",
        "from keras import metrics\n",
        "\n",
        "model = models.Sequential()\n",
        "model.add(layers.Dense(16, activation='relu', input_shape=(10000,)))\n",
        "model.add(layers.Dense(16, activation='relu'))\n",
        "model.add(layers.Dense(1, activation='sigmoid'))\n",
        "\n",
        "model.compile(optimizer='rmsprop',\n",
        "             loss='binary_crossentropy',\n",
        "             metrics=['accuracy'])\n",
        "\n",
        "model.fit(x_train, y_train, epochs=4, batch_size=512)\n",
        "results = model.evaluate(x_test, y_test)"
      ],
      "execution_count": 8,
      "outputs": [
        {
          "output_type": "stream",
          "text": [
            "WARNING:tensorflow:From /usr/local/lib/python3.6/dist-packages/tensorflow/python/ops/math_ops.py:3066: to_int32 (from tensorflow.python.ops.math_ops) is deprecated and will be removed in a future version.\n",
            "Instructions for updating:\n",
            "Use tf.cast instead.\n",
            "Epoch 1/4\n",
            "25000/25000 [==============================] - 5s 188us/step - loss: 0.4496 - acc: 0.8165\n",
            "Epoch 2/4\n",
            "25000/25000 [==============================] - 2s 84us/step - loss: 0.2552 - acc: 0.9094\n",
            "Epoch 3/4\n",
            "25000/25000 [==============================] - 2s 86us/step - loss: 0.1969 - acc: 0.9298\n",
            "Epoch 4/4\n",
            "25000/25000 [==============================] - 2s 84us/step - loss: 0.1669 - acc: 0.9409\n",
            "25000/25000 [==============================] - 2s 98us/step\n"
          ],
          "name": "stdout"
        }
      ]
    },
    {
      "metadata": {
        "id": "-IitfwpN5A3a",
        "colab_type": "code",
        "colab": {
          "base_uri": "https://localhost:8080/",
          "height": 35
        },
        "outputId": "95869976-4a4e-4136-82ef-bb4f6565c8a1"
      },
      "cell_type": "code",
      "source": [
        "results\n"
      ],
      "execution_count": 9,
      "outputs": [
        {
          "output_type": "execute_result",
          "data": {
            "text/plain": [
              "[0.2945873055553436, 0.8832]"
            ]
          },
          "metadata": {
            "tags": []
          },
          "execution_count": 9
        }
      ]
    },
    {
      "metadata": {
        "id": "kqLYxkXf88Qd",
        "colab_type": "text"
      },
      "cell_type": "markdown",
      "source": [
        "use >>> model.predict(x_test)"
      ]
    },
    {
      "metadata": {
        "id": "NLs0S4K08b9Q",
        "colab_type": "code",
        "colab": {
          "base_uri": "https://localhost:8080/",
          "height": 173
        },
        "outputId": "df6a601f-0cad-445b-c6fb-db7ff98f3fd3"
      },
      "cell_type": "code",
      "source": [
        "from keras import models\n",
        "from keras import layers\n",
        "from keras import optimizers\n",
        "from keras import losses\n",
        "from keras import metrics\n",
        "\n",
        "model = models.Sequential()\n",
        "model.add(layers.Dense(16, activation='relu', input_shape=(10000,)))\n",
        "model.add(layers.Dense(16, activation='relu'))\n",
        "model.add(layers.Dense(1, activation='sigmoid'))\n",
        "\n",
        "model.compile(optimizer='rmsprop',\n",
        "             loss='binary_crossentropy',\n",
        "             metrics=['accuracy'])\n",
        "\n",
        "model.fit(x_train, y_train, epochs=4, batch_size=512)\n",
        "results = model.evaluate(x_test, y_test)\n",
        "pred = model.predict(x_test)"
      ],
      "execution_count": 13,
      "outputs": [
        {
          "output_type": "stream",
          "text": [
            "Epoch 1/4\n",
            "25000/25000 [==============================] - 2s 85us/step - loss: 0.4496 - acc: 0.8165\n",
            "Epoch 2/4\n",
            "25000/25000 [==============================] - 2s 79us/step - loss: 0.2552 - acc: 0.9094\n",
            "Epoch 3/4\n",
            "25000/25000 [==============================] - 2s 79us/step - loss: 0.1969 - acc: 0.9298\n",
            "Epoch 4/4\n",
            "25000/25000 [==============================] - 2s 80us/step - loss: 0.1669 - acc: 0.9409\n",
            "25000/25000 [==============================] - 2s 100us/step\n"
          ],
          "name": "stdout"
        }
      ]
    },
    {
      "metadata": {
        "id": "l_OrR4lP9JW0",
        "colab_type": "code",
        "colab": {
          "base_uri": "https://localhost:8080/",
          "height": 139
        },
        "outputId": "29e1b4e0-9b6d-4871-c614-c084dbb5957b"
      },
      "cell_type": "code",
      "source": [
        "results\n",
        "pred"
      ],
      "execution_count": 14,
      "outputs": [
        {
          "output_type": "execute_result",
          "data": {
            "text/plain": [
              "array([[0.2230874 ],\n",
              "       [0.9996835 ],\n",
              "       [0.8147415 ],\n",
              "       ...,\n",
              "       [0.19392458],\n",
              "       [0.06048414],\n",
              "       [0.5789403 ]], dtype=float32)"
            ]
          },
          "metadata": {
            "tags": []
          },
          "execution_count": 14
        }
      ]
    },
    {
      "metadata": {
        "id": "MtZxXPhg9pN6",
        "colab_type": "code",
        "colab": {
          "base_uri": "https://localhost:8080/",
          "height": 35
        },
        "outputId": "d9990066-9121-44fe-9397-61c375fc8a81"
      },
      "cell_type": "code",
      "source": [
        "results"
      ],
      "execution_count": 15,
      "outputs": [
        {
          "output_type": "execute_result",
          "data": {
            "text/plain": [
              "[0.29458718272686, 0.8832]"
            ]
          },
          "metadata": {
            "tags": []
          },
          "execution_count": 15
        }
      ]
    },
    {
      "metadata": {
        "id": "4yXjqaEM9sB7",
        "colab_type": "code",
        "colab": {}
      },
      "cell_type": "code",
      "source": [
        ""
      ],
      "execution_count": 0,
      "outputs": []
    }
  ]
}